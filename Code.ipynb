{
 "cells": [
  {
   "cell_type": "markdown",
   "metadata": {},
   "source": [
    "# **Ekstraksi Tabulasi Diseminasi Menjadi 1 File Excel Dengan Filter Kewilayahan**\n",
    "\n",
    "Created by Yoga Cahya Putra (BPS Kabupaten Pesawaran)\n",
    "\n"
   ]
  },
  {
   "cell_type": "markdown",
   "metadata": {},
   "source": [
    "## Instalasi Library"
   ]
  },
  {
   "cell_type": "code",
   "execution_count": 2,
   "metadata": {},
   "outputs": [
    {
     "name": "stdout",
     "output_type": "stream",
     "text": [
      "Requirement already satisfied: pandas in /opt/anaconda3/lib/python3.11/site-packages (2.1.4)\n",
      "Requirement already satisfied: openpyxl in /opt/anaconda3/lib/python3.11/site-packages (3.0.10)\n",
      "Requirement already satisfied: numpy<2,>=1.23.2 in /opt/anaconda3/lib/python3.11/site-packages (from pandas) (1.26.4)\n",
      "Requirement already satisfied: python-dateutil>=2.8.2 in /opt/anaconda3/lib/python3.11/site-packages (from pandas) (2.8.2)\n",
      "Requirement already satisfied: pytz>=2020.1 in /opt/anaconda3/lib/python3.11/site-packages (from pandas) (2023.3.post1)\n",
      "Requirement already satisfied: tzdata>=2022.1 in /opt/anaconda3/lib/python3.11/site-packages (from pandas) (2023.3)\n",
      "Requirement already satisfied: et_xmlfile in /opt/anaconda3/lib/python3.11/site-packages (from openpyxl) (1.1.0)\n",
      "Requirement already satisfied: six>=1.5 in /opt/anaconda3/lib/python3.11/site-packages (from python-dateutil>=2.8.2->pandas) (1.16.0)\n",
      "Note: you may need to restart the kernel to use updated packages.\n"
     ]
    }
   ],
   "source": [
    "%pip install pandas openpyxl"
   ]
  },
  {
   "cell_type": "markdown",
   "metadata": {},
   "source": [
    "## Kode Ekstraksi"
   ]
  },
  {
   "cell_type": "code",
   "execution_count": 1,
   "metadata": {},
   "outputs": [
    {
     "name": "stdout",
     "output_type": "stream",
     "text": [
      "File Excel \"/Users/ptrayoga/Sites/localhost/project_bps/Diseminasi UTP/hasil_ekstraksi_20240819_072424.xlsx\" berhasil dibuat.\n"
     ]
    }
   ],
   "source": [
    "import pandas as pd\n",
    "import openpyxl\n",
    "import os\n",
    "import datetime\n",
    "\n",
    "# Folder Tabulasi Pusat\n",
    "folder_path = r'tambahkan directory folder tabulasi publikasi disini'\n",
    "\n",
    "# Id Kab Harus sesuai dengan format di tabulasi\n",
    "target_id_kab = \"[1809] PESAWARAN\" #pastikan ganti ini ya sobat\n",
    "\n",
    "# DataFrame \n",
    "dfs = {}\n",
    "\n",
    "# Looping semua files .xlsx di folder\n",
    "for file_name in os.listdir(folder_path):\n",
    "    if file_name.endswith('.xlsx') and not file_name.startswith('~$'):\n",
    "        file_path = os.path.join(folder_path, file_name)\n",
    "\n",
    "        # ekstraksi prefix sheet dari nama files\n",
    "        sheet_prefix = file_name[34:38]\n",
    "        \n",
    "        if 'komoditas' in file_name:\n",
    "            sheet_name = f'{sheet_prefix}_komoditas_kec'\n",
    "            #penamaan sheet output\n",
    "            sheet_output_name = file_name[34:53]  # Karakter ke-34 hingga ke-53 dari files name\n",
    "        else:\n",
    "            #ekstraksi sheet selain komoditas ga sama jadi ribet wkwkwk\n",
    "            if 'tabel_5_01' in file_name:\n",
    "                sheet_name = '5_1_kec'\n",
    "            else:\n",
    "                # Default: menggunakan sheet_prefix jika tidak ada kondisi khusus\n",
    "                sheet_name = f'{sheet_prefix}_kec'\n",
    "            # sheet output \n",
    "            sheet_output_name = file_name[34:38]  # Karakter ke-34 hingga ke-38 dari file name\n",
    "\n",
    "        try:\n",
    "            df = pd.read_excel(file_path, sheet_name=sheet_name, engine='openpyxl')\n",
    "            filtered_df = df[df['id_kab'] == target_id_kab]\n",
    "            dfs[sheet_output_name] = filtered_df\n",
    "        except Exception as e:\n",
    "            print(f'Gagal memproses file {file_name} dengan sheet {sheet_name}: {e}')\n",
    "\n",
    "# sort sheet by name\n",
    "sorted_sheet_names = sorted(dfs.keys())\n",
    "\n",
    "# buat sheet info untuk daftar isi biar gampang ygy\n",
    "info_df = pd.DataFrame({\n",
    "    'Tabulasi': sorted_sheet_names,\n",
    "    'Hyperlink': [f'=HYPERLINK(\"#{sheet_name}!A1\", \"{sheet_name}\")' for sheet_name in sorted_sheet_names]\n",
    "})\n",
    "# get tanggal dan waktu saat ini\n",
    "now = datetime.datetime.now()\n",
    "\n",
    "# timestamp\n",
    "timestamp = now.strftime(\"%Y%m%d_%H%M%S\")\n",
    "\n",
    "# output files\n",
    "output_file = rf'ganti ini dengan lokasi penyimpanan/hasil_ekstraksi_{timestamp}.xlsx' #ganti ini ke lokasi penyimpanan yang kamu inginkan sobat eheheh\n",
    "\n",
    "\n",
    "# write semua sheet\n",
    "with pd.ExcelWriter(output_file, engine='openpyxl') as writer:\n",
    "    # sheet info paling awal\n",
    "    info_df.to_excel(writer, sheet_name='info', index=False)\n",
    "    # sheet lainnya\n",
    "    for sheet_name in sorted_sheet_names:\n",
    "        dfs[sheet_name].to_excel(writer, sheet_name=sheet_name, index=False)\n",
    "\n",
    "# open excel untuk modifikasi\n",
    "wb = openpyxl.load_workbook(output_file)\n",
    "\n",
    "# tambahkan hyperlink info ke setiap sheet selain sheet info & penjumlahan\n",
    "for sheet_name in sorted_sheet_names:\n",
    "    if sheet_name != 'info':\n",
    "        ws = wb[sheet_name]\n",
    "        \n",
    "        # Menambahkan hyperlink ke sheet 'info'\n",
    "        ws.append([''] * (ws.max_column)) \n",
    "        ws.cell(row=ws.max_row, column=1, value=f'=HYPERLINK(\"#info!A1\", \"Go to Info\")')  # Hyperlink ke sheet 'info'\n",
    "        \n",
    "        # Menjumlahkan kolom G hingga kolom terakhir dari baris 2 hingga 12\n",
    "        col_start_index = openpyxl.utils.column_index_from_string('F')  \n",
    "        for col in range(col_start_index, ws.max_column):\n",
    "            ws.cell(row=ws.max_row, column=col + 1, value=f'=SUM({openpyxl.utils.get_column_letter(col + 1)}2:{openpyxl.utils.get_column_letter(col + 1)}12)')\n",
    "\n",
    "# save lagi ygy biar update\n",
    "wb.save(output_file)\n",
    "\n",
    "print(f'File Excel \"{output_file}\" berhasil dibuat.') #jadi deh\n"
   ]
  }
 ],
 "metadata": {
  "kernelspec": {
   "display_name": "base",
   "language": "python",
   "name": "python3"
  },
  "language_info": {
   "codemirror_mode": {
    "name": "ipython",
    "version": 3
   },
   "file_extension": ".py",
   "mimetype": "text/x-python",
   "name": "python",
   "nbconvert_exporter": "python",
   "pygments_lexer": "ipython3",
   "version": "3.11.7"
  }
 },
 "nbformat": 4,
 "nbformat_minor": 2
}
